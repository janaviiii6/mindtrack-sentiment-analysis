{
 "cells": [
  {
   "cell_type": "markdown",
   "id": "52162f75",
   "metadata": {},
   "source": [
    "# SET 1: ML Based Approach"
   ]
  },
  {
   "cell_type": "code",
   "execution_count": 1,
   "id": "8230199e",
   "metadata": {},
   "outputs": [
    {
     "name": "stdout",
     "output_type": "stream",
     "text": [
      "Requirement already satisfied: scikit-learn in c:\\users\\vaishnavi\\anaconda3\\lib\\site-packages (1.0.2)\n",
      "Requirement already satisfied: numpy in c:\\users\\vaishnavi\\anaconda3\\lib\\site-packages (1.19.5)\n",
      "Requirement already satisfied: pandas in c:\\users\\vaishnavi\\anaconda3\\lib\\site-packages (1.4.4)\n",
      "Requirement already satisfied: scipy>=1.1.0 in c:\\users\\vaishnavi\\anaconda3\\lib\\site-packages (from scikit-learn) (1.9.1)\n",
      "Requirement already satisfied: threadpoolctl>=2.0.0 in c:\\users\\vaishnavi\\anaconda3\\lib\\site-packages (from scikit-learn) (2.2.0)\n",
      "Requirement already satisfied: joblib>=0.11 in c:\\users\\vaishnavi\\anaconda3\\lib\\site-packages (from scikit-learn) (1.1.0)\n",
      "Requirement already satisfied: python-dateutil>=2.8.1 in c:\\users\\vaishnavi\\anaconda3\\lib\\site-packages (from pandas) (2.8.2)\n",
      "Requirement already satisfied: pytz>=2020.1 in c:\\users\\vaishnavi\\anaconda3\\lib\\site-packages (from pandas) (2022.1)\n",
      "Requirement already satisfied: six>=1.5 in c:\\users\\vaishnavi\\anaconda3\\lib\\site-packages (from python-dateutil>=2.8.1->pandas) (1.15.0)\n",
      "Note: you may need to restart the kernel to use updated packages.\n"
     ]
    }
   ],
   "source": [
    "%pip install scikit-learn numpy pandas\n",
    "import numpy as np\n",
    "import pandas as pd\n",
    "import re"
   ]
  },
  {
   "cell_type": "code",
   "execution_count": 2,
   "id": "d02511a5",
   "metadata": {},
   "outputs": [],
   "source": [
    "from textblob import TextBlob"
   ]
  },
  {
   "cell_type": "code",
   "execution_count": 5,
   "id": "bf9fbe5d",
   "metadata": {},
   "outputs": [
    {
     "name": "stdout",
     "output_type": "stream",
     "text": [
      "     Column1                Company  \\\n",
      "0          0                Netflix   \n",
      "1          1                   Uber   \n",
      "2          2                   Yext   \n",
      "3          3                   CACI   \n",
      "4          4          Covenant Eyes   \n",
      "..       ...                    ...   \n",
      "117      117  Reynolds and Reynolds   \n",
      "118      118                  Sabre   \n",
      "119      119  Legrand North America   \n",
      "120      120    Samsung Electronics   \n",
      "121      121         Teladoc Health   \n",
      "\n",
      "                                               Reviews HUMAN_LABEL  \n",
      "0    high performance culture challenge netflix ask...    positive  \n",
      "1    pay gone years first started pay great! gas pr...    negative  \n",
      "2    excellent ceo -lucky worked given opportunity ...    negative  \n",
      "3    nice place work great company work benefits gr...    negative  \n",
      "4    best company i’ve ever worked covenant eyes ca...    positive  \n",
      "..                                                 ...         ...  \n",
      "117  5 stars best part working company? management ...    negative  \n",
      "118  easy going workplace “you always deliver work ...    positive  \n",
      "119  best place work managers jobs correctly always...    negative  \n",
      "120  interesting challenging work one favorite comp...    negative  \n",
      "121  well-organized inclusive excellent management ...    negative  \n",
      "\n",
      "[122 rows x 4 columns]\n"
     ]
    }
   ],
   "source": [
    "data = pd.read_csv('HumanAnnotatedDataset.csv')\n",
    "print(data)\n",
    "data.Reviews=data.Reviews.astype(str)\n",
    "\n",
    "#Transform text to lowercase\n",
    "data['Reviews'].apply(lambda x: x.lower()) \n",
    "#Removing all punctuations and special characters\n",
    "data['Reviews'] = data['Reviews'].apply(lambda x: re.sub('[^a-zA-z0-9\\s]', '', x)) "
   ]
  },
  {
   "cell_type": "markdown",
   "id": "cab89951",
   "metadata": {},
   "source": [
    "StopWord Removal"
   ]
  },
  {
   "cell_type": "code",
   "execution_count": 6,
   "id": "596a8b1a",
   "metadata": {},
   "outputs": [],
   "source": [
    "english_stopwords = [\"i\", \"me\", \"my\", \"myself\", \"we\", \"our\", \"ours\", \"ourselves\", \"you\", \"your\", \"yours\", \"yourself\", \"yourselves\", \"he\", \"him\", \"his\", \"himself\", \"she\", \"her\", \"hers\", \"herself\", \"it\", \"its\", \"itself\", \"they\", \"them\", \"their\", \"theirs\", \"themselves\", \"what\", \"which\", \"who\", \"whom\", \"this\", \"that\", \"these\", \"those\", \"am\", \"is\", \"are\", \"was\", \"were\", \"be\", \"been\", \"being\", \"have\", \"has\", \"had\", \"having\", \"do\", \"does\", \"did\", \"doing\", \"a\", \"an\", \"the\", \"and\", \"but\", \"if\", \"or\", \"because\", \"as\", \"until\", \"while\", \"of\", \"at\", \"by\", \"for\", \"with\", \"about\", \"against\", \"between\", \"into\", \"through\", \"during\", \"before\", \"after\", \"above\", \"below\", \"to\", \"from\", \"up\", \"down\", \"in\", \"out\", \"on\", \"off\", \"over\", \"under\", \"again\", \"further\", \"then\", \"once\", \"here\", \"there\", \"when\", \"where\", \"why\", \"how\", \"all\", \"any\", \"both\", \"each\", \"few\", \"more\", \"most\", \"other\", \"some\", \"such\", \"no\", \"nor\", \"not\", \"only\", \"own\", \"same\", \"so\", \"than\", \"too\", \"very\", \"s\", \"t\", \"can\", \"will\", \"just\", \"don\", \"should\", \"now\"]\n",
    "stopwords_list = english_stopwords\n",
    "data['Reviews'] = data['Reviews'].apply(lambda x: ' '.join([word for word in x.split() if word not in (stopwords_list)]))"
   ]
  },
  {
   "cell_type": "code",
   "execution_count": 7,
   "id": "56c17f18",
   "metadata": {},
   "outputs": [
    {
     "data": {
      "text/html": [
       "<div>\n",
       "<style scoped>\n",
       "    .dataframe tbody tr th:only-of-type {\n",
       "        vertical-align: middle;\n",
       "    }\n",
       "\n",
       "    .dataframe tbody tr th {\n",
       "        vertical-align: top;\n",
       "    }\n",
       "\n",
       "    .dataframe thead th {\n",
       "        text-align: right;\n",
       "    }\n",
       "</style>\n",
       "<table border=\"1\" class=\"dataframe\">\n",
       "  <thead>\n",
       "    <tr style=\"text-align: right;\">\n",
       "      <th></th>\n",
       "      <th>Column1</th>\n",
       "      <th>Company</th>\n",
       "      <th>Reviews</th>\n",
       "      <th>HUMAN_LABEL</th>\n",
       "    </tr>\n",
       "  </thead>\n",
       "  <tbody>\n",
       "    <tr>\n",
       "      <th>0</th>\n",
       "      <td>0</td>\n",
       "      <td>Netflix</td>\n",
       "      <td>high performance culture challenge netflix ask...</td>\n",
       "      <td>positive</td>\n",
       "    </tr>\n",
       "    <tr>\n",
       "      <th>1</th>\n",
       "      <td>1</td>\n",
       "      <td>Uber</td>\n",
       "      <td>pay gone years first started pay great gas pri...</td>\n",
       "      <td>negative</td>\n",
       "    </tr>\n",
       "    <tr>\n",
       "      <th>2</th>\n",
       "      <td>2</td>\n",
       "      <td>Yext</td>\n",
       "      <td>excellent ceo lucky worked given opportunity f...</td>\n",
       "      <td>negative</td>\n",
       "    </tr>\n",
       "    <tr>\n",
       "      <th>3</th>\n",
       "      <td>3</td>\n",
       "      <td>CACI</td>\n",
       "      <td>nice place work great company work benefits gr...</td>\n",
       "      <td>negative</td>\n",
       "    </tr>\n",
       "    <tr>\n",
       "      <th>4</th>\n",
       "      <td>4</td>\n",
       "      <td>Covenant Eyes</td>\n",
       "      <td>best company ive ever worked covenant eyes car...</td>\n",
       "      <td>positive</td>\n",
       "    </tr>\n",
       "  </tbody>\n",
       "</table>\n",
       "</div>"
      ],
      "text/plain": [
       "   Column1        Company                                            Reviews  \\\n",
       "0        0        Netflix  high performance culture challenge netflix ask...   \n",
       "1        1           Uber  pay gone years first started pay great gas pri...   \n",
       "2        2           Yext  excellent ceo lucky worked given opportunity f...   \n",
       "3        3           CACI  nice place work great company work benefits gr...   \n",
       "4        4  Covenant Eyes  best company ive ever worked covenant eyes car...   \n",
       "\n",
       "  HUMAN_LABEL  \n",
       "0    positive  \n",
       "1    negative  \n",
       "2    negative  \n",
       "3    negative  \n",
       "4    positive  "
      ]
     },
     "execution_count": 7,
     "metadata": {},
     "output_type": "execute_result"
    }
   ],
   "source": [
    "data.head()"
   ]
  },
  {
   "cell_type": "code",
   "execution_count": 8,
   "id": "01b7fdb5",
   "metadata": {},
   "outputs": [],
   "source": [
    "X = data.iloc[:, 2]\n",
    "y = data.iloc[:, -1]"
   ]
  },
  {
   "cell_type": "code",
   "execution_count": 9,
   "id": "d5fe6901",
   "metadata": {},
   "outputs": [],
   "source": [
    "from sklearn.model_selection import train_test_split\n",
    "X_train, X_test, y_train, y_test = train_test_split(X, y, test_size = 0.25, random_state = 42)"
   ]
  },
  {
   "cell_type": "code",
   "execution_count": 10,
   "id": "a919664f",
   "metadata": {},
   "outputs": [
    {
     "data": {
      "text/plain": [
       "15     low paced environment day consisted learning c...\n",
       "72     good place work fun caring people guess starte...\n",
       "22     good wlb terrible culture never work later sch...\n",
       "116    overall great place intern first internship co...\n",
       "91     fun workplace ive worked almost two years hone...\n",
       "                             ...                        \n",
       "106    good people challenges sort great product visi...\n",
       "14     excellent employer microsoft excellent employe...\n",
       "92     great place work great worklife balance welcom...\n",
       "51     flexible flexible hours management help sucked...\n",
       "102    disconnected benefits mediocre high turnaround...\n",
       "Name: Reviews, Length: 91, dtype: object"
      ]
     },
     "execution_count": 10,
     "metadata": {},
     "output_type": "execute_result"
    }
   ],
   "source": [
    "X_train"
   ]
  },
  {
   "cell_type": "code",
   "execution_count": 11,
   "id": "69bbe373",
   "metadata": {},
   "outputs": [
    {
     "data": {
      "text/plain": [
       "18     productive fun place work would definitely rec...\n",
       "45     good work ethics working help client stay clea...\n",
       "47     productive strong work environment good workli...\n",
       "89     much game culture dedicated product ip making ...\n",
       "4      best company ive ever worked covenant eyes car...\n",
       "40     good place work people passionate products tak...\n",
       "62     great place work great place work never job tr...\n",
       "107    small company feel good people small company f...\n",
       "31     overall great place work overall great place w...\n",
       "55     okay often left manage difficult accounts cand...\n",
       "53     feel well cared working gdms nature work fulfi...\n",
       "119    best place work managers jobs correctly always...\n",
       "10     productive fun environment overall kasisto fun...\n",
       "90     electrical repair technician great place work ...\n",
       "109    great wonderful work environment everyone real...\n",
       "11     productive fun workplace learned new things co...\n",
       "76     good pay terrible management management terrib...\n",
       "56     fast moving environment clear mission great pl...\n",
       "115    best job ever working apple great experience w...\n",
       "0      high performance culture challenge netflix ask...\n",
       "26     good place overall treat employees well greet ...\n",
       "44     2 stars best part working company good lower l...\n",
       "66     great experience work fun would definitely wor...\n",
       "98     good job money good good job time money good c...\n",
       "24     productive fun place amazing culture innovatio...\n",
       "42     ok place work good coworkers schedule place di...\n",
       "105    pays extremely well pay almost unbeatable skil...\n",
       "93     intern experience overall lot learning opportu...\n",
       "36     great company salary good great benefits oppor...\n",
       "100    productive workplace fun table tennis outdoor ...\n",
       "12     good place work good perks employee engagement...\n",
       "Name: Reviews, dtype: object"
      ]
     },
     "execution_count": 11,
     "metadata": {},
     "output_type": "execute_result"
    }
   ],
   "source": [
    "X_test"
   ]
  },
  {
   "cell_type": "markdown",
   "id": "298d1c1f",
   "metadata": {},
   "source": [
    "TfidVectorization"
   ]
  },
  {
   "cell_type": "code",
   "execution_count": 12,
   "id": "cfdd4176",
   "metadata": {},
   "outputs": [],
   "source": [
    "from sklearn.feature_extraction import text\n",
    "from sklearn.feature_extraction.text import TfidfVectorizer\n",
    "\n",
    "my_stop_words = list(text.ENGLISH_STOP_WORDS)\n",
    "# Create feature vectors\n",
    "vectorizer = TfidfVectorizer(min_df=5,\n",
    "                             max_df=0.95,\n",
    "                             stop_words=my_stop_words,\n",
    "                             sublinear_tf = True,\n",
    "                             use_idf = True,\n",
    "                             ngram_range=(1,1))\n",
    "train_vectors = vectorizer.fit_transform(X_train.values.astype('U'))\n",
    "test_vectors = vectorizer.transform(X_test.values.astype('U'))"
   ]
  },
  {
   "cell_type": "markdown",
   "id": "a25fa49d",
   "metadata": {},
   "source": [
    "Random Forest"
   ]
  },
  {
   "cell_type": "code",
   "execution_count": 13,
   "id": "cd86bef3",
   "metadata": {},
   "outputs": [
    {
     "name": "stdout",
     "output_type": "stream",
     "text": [
      "Training time: 0.275105s; Prediction time: 0.033982s\n",
      "positive:  {'precision': 0.8, 'recall': 0.6153846153846154, 'f1-score': 0.6956521739130435, 'support': 13}\n",
      "negative:  {'precision': 0.7619047619047619, 'recall': 0.8888888888888888, 'f1-score': 0.8205128205128205, 'support': 18}\n"
     ]
    }
   ],
   "source": [
    "import time\n",
    "from sklearn.ensemble import RandomForestClassifier\n",
    "from sklearn.metrics import classification_report\n",
    "# Perform classification with SVM, kernel=linear\n",
    "classifier = RandomForestClassifier()\n",
    "t0 = time.time()\n",
    "classifier.fit(train_vectors, y_train)\n",
    "t1 = time.time()\n",
    "prediction = classifier.predict(test_vectors)\n",
    "t2 = time.time()\n",
    "time_linear_train = t1-t0\n",
    "time_linear_predict = t2-t1\n",
    "# results\n",
    "print(\"Training time: %fs; Prediction time: %fs\" % (time_linear_train, time_linear_predict))\n",
    "report = classification_report(y_test, prediction, output_dict=True,labels=np.unique(prediction))\n",
    "print('positive: ', report['positive'])\n",
    "print('negative: ', report['negative'])"
   ]
  },
  {
   "cell_type": "code",
   "execution_count": 14,
   "id": "7acb02a0",
   "metadata": {},
   "outputs": [
    {
     "name": "stdout",
     "output_type": "stream",
     "text": [
      "Training time: 0.003096s; Prediction time: 0.018920s\n",
      "positive:  {'precision': 0.7, 'recall': 0.5384615384615384, 'f1-score': 0.608695652173913, 'support': 13}\n",
      "negative:  {'precision': 0.7142857142857143, 'recall': 0.8333333333333334, 'f1-score': 0.7692307692307692, 'support': 18}\n"
     ]
    },
    {
     "name": "stderr",
     "output_type": "stream",
     "text": [
      "C:\\Users\\Vaishnavi\\anaconda3\\lib\\site-packages\\sklearn\\neighbors\\_classification.py:228: FutureWarning: Unlike other reduction functions (e.g. `skew`, `kurtosis`), the default behavior of `mode` typically preserves the axis it acts along. In SciPy 1.11.0, this behavior will change: the default value of `keepdims` will become False, the `axis` over which the statistic is taken will be eliminated, and the value None will no longer be accepted. Set `keepdims` to True or False to avoid this warning.\n",
      "  mode, _ = stats.mode(_y[neigh_ind, k], axis=1)\n"
     ]
    }
   ],
   "source": [
    "from sklearn.neighbors import KNeighborsClassifier\n",
    "classifier = KNeighborsClassifier()\n",
    "t0 = time.time()\n",
    "classifier.fit(train_vectors, y_train)\n",
    "t1 = time.time()\n",
    "prediction = classifier.predict(test_vectors)\n",
    "t2 = time.time()\n",
    "time_linear_train = t1-t0\n",
    "time_linear_predict = t2-t1\n",
    "# results\n",
    "print(\"Training time: %fs; Prediction time: %fs\" % (time_linear_train, time_linear_predict))\n",
    "report = classification_report(y_test, prediction, output_dict=True)\n",
    "print('positive: ', report['positive'])\n",
    "print('negative: ', report['negative'])"
   ]
  },
  {
   "cell_type": "markdown",
   "id": "50e727f5",
   "metadata": {},
   "source": [
    "# SET 2: Using Textblob with PreProcessing"
   ]
  },
  {
   "cell_type": "code",
   "execution_count": 15,
   "id": "f1069542",
   "metadata": {},
   "outputs": [
    {
     "name": "stdout",
     "output_type": "stream",
     "text": [
      "Requirement already satisfied: numpy in c:\\users\\vaishnavi\\anaconda3\\lib\\site-packages (1.19.5)\n",
      "Requirement already satisfied: pandas in c:\\users\\vaishnavi\\anaconda3\\lib\\site-packages (1.4.4)\n",
      "Requirement already satisfied: nltk in c:\\users\\vaishnavi\\anaconda3\\lib\\site-packages (3.7)\n",
      "Requirement already satisfied: textblob in c:\\users\\vaishnavi\\anaconda3\\lib\\site-packages (0.15.3)\n",
      "Collecting statistics\n",
      "  Downloading statistics-1.0.3.5.tar.gz (8.3 kB)\n",
      "  Preparing metadata (setup.py): started\n",
      "  Preparing metadata (setup.py): finished with status 'done'\n",
      "Requirement already satisfied: python-dateutil>=2.8.1 in c:\\users\\vaishnavi\\anaconda3\\lib\\site-packages (from pandas) (2.8.2)\n",
      "Requirement already satisfied: pytz>=2020.1 in c:\\users\\vaishnavi\\anaconda3\\lib\\site-packages (from pandas) (2022.1)\n",
      "Requirement already satisfied: regex>=2021.8.3 in c:\\users\\vaishnavi\\anaconda3\\lib\\site-packages (from nltk) (2022.7.9)\n",
      "Requirement already satisfied: joblib in c:\\users\\vaishnavi\\anaconda3\\lib\\site-packages (from nltk) (1.1.0)\n",
      "Requirement already satisfied: tqdm in c:\\users\\vaishnavi\\anaconda3\\lib\\site-packages (from nltk) (4.64.1)\n",
      "Requirement already satisfied: click in c:\\users\\vaishnavi\\anaconda3\\lib\\site-packages (from nltk) (8.0.4)\n",
      "Requirement already satisfied: docutils>=0.3 in c:\\users\\vaishnavi\\anaconda3\\lib\\site-packages (from statistics) (0.18.1)\n",
      "Requirement already satisfied: six>=1.5 in c:\\users\\vaishnavi\\anaconda3\\lib\\site-packages (from python-dateutil>=2.8.1->pandas) (1.15.0)\n",
      "Requirement already satisfied: colorama in c:\\users\\vaishnavi\\anaconda3\\lib\\site-packages (from click->nltk) (0.4.5)\n",
      "Building wheels for collected packages: statistics\n",
      "  Building wheel for statistics (setup.py): started\n",
      "  Building wheel for statistics (setup.py): finished with status 'done'\n",
      "  Created wheel for statistics: filename=statistics-1.0.3.5-py3-none-any.whl size=7439 sha256=ffc41222cfedaa3f1a87710813aeb906a2dfc2686fbb80e930905f03bdfd91cf\n",
      "  Stored in directory: c:\\users\\vaishnavi\\appdata\\local\\pip\\cache\\wheels\\26\\3c\\70\\9467407f3aa90862061eadcd286627b23a8bab6789b667776f\n",
      "Successfully built statistics\n",
      "Installing collected packages: statistics\n",
      "Successfully installed statistics-1.0.3.5\n",
      "Note: you may need to restart the kernel to use updated packages.\n"
     ]
    },
    {
     "name": "stderr",
     "output_type": "stream",
     "text": [
      "[nltk_data] Downloading package stopwords to\n",
      "[nltk_data]     C:\\Users\\Vaishnavi\\AppData\\Roaming\\nltk_data...\n",
      "[nltk_data]   Package stopwords is already up-to-date!\n"
     ]
    },
    {
     "data": {
      "text/plain": [
       "True"
      ]
     },
     "execution_count": 15,
     "metadata": {},
     "output_type": "execute_result"
    }
   ],
   "source": [
    "%pip install numpy pandas nltk textblob statistics\n",
    "import nltk\n",
    "nltk.download('stopwords')"
   ]
  },
  {
   "cell_type": "code",
   "execution_count": 16,
   "id": "3f233d5c",
   "metadata": {},
   "outputs": [],
   "source": [
    "import numpy as np\n",
    "import pandas as pd\n",
    "import re\n",
    "import nltk\n",
    "from nltk.corpus import stopwords"
   ]
  },
  {
   "cell_type": "code",
   "execution_count": 17,
   "id": "9cd827cb",
   "metadata": {},
   "outputs": [],
   "source": [
    "data = pd.read_csv('dataset.csv', sep='|')\n",
    "data.Reviews=data.Reviews.astype(str)\n",
    "\n",
    "#Transform text to lowercase\n",
    "data['Reviews'] = data['Reviews'].apply(lambda x: x.lower()) \n",
    "#Removing all punctuations and special characters\n",
    "data['Reviews'] = data['Reviews'].apply(lambda x: re.sub('[,.]', '', x))"
   ]
  },
  {
   "cell_type": "code",
   "execution_count": 18,
   "id": "33fdc1e2",
   "metadata": {},
   "outputs": [],
   "source": [
    "stopwords_list = stopwords.words('english')\n",
    "data['Reviews'] = data['Reviews'].apply(lambda x: ' '.join([word for word in x.split() if word not in (stopwords_list)]))"
   ]
  },
  {
   "cell_type": "code",
   "execution_count": 19,
   "id": "440a336e",
   "metadata": {},
   "outputs": [
    {
     "name": "stdout",
     "output_type": "stream",
     "text": [
      "                   Company                                            Reviews\n",
      "0                  Netflix  high performance culture challenge netflix ask...\n",
      "1                     Uber  pay gone years first started pay great! gas pr...\n",
      "2                     Yext  excellent ceo -lucky worked given opportunity ...\n",
      "3                     CACI  nice place work great company work benefits gr...\n",
      "4            Covenant Eyes  best company i’ve ever worked covenant eyes ca...\n",
      "..                     ...                                                ...\n",
      "117  Reynolds and Reynolds  5 stars best part working company? management ...\n",
      "118                  Sabre  easy going workplace “you always deliver work ...\n",
      "119  Legrand North America  best place work managers jobs correctly always...\n",
      "120    Samsung Electronics  interesting challenging work one favorite comp...\n",
      "121         Teladoc Health  well-organized inclusive excellent management ...\n",
      "\n",
      "[122 rows x 2 columns]\n"
     ]
    }
   ],
   "source": [
    "print(data)"
   ]
  },
  {
   "cell_type": "code",
   "execution_count": 20,
   "id": "ef9e75a2",
   "metadata": {},
   "outputs": [],
   "source": [
    "from textblob import TextBlob"
   ]
  },
  {
   "cell_type": "code",
   "execution_count": 21,
   "id": "6da77e89",
   "metadata": {},
   "outputs": [],
   "source": [
    "score_list=[]\n",
    "\n",
    "for text in data['Reviews']:\n",
    "  \n",
    "  sentence = TextBlob(text)\n",
    "  \n",
    "  score = sentence.sentiment.polarity\n",
    "  score_list.append(score)"
   ]
  },
  {
   "cell_type": "code",
   "execution_count": 22,
   "id": "892099fe",
   "metadata": {},
   "outputs": [
    {
     "name": "stdout",
     "output_type": "stream",
     "text": [
      "0.24523521411378624\n"
     ]
    }
   ],
   "source": [
    "import statistics\n",
    "median = statistics.median(score_list)\n",
    "print(median)"
   ]
  },
  {
   "cell_type": "code",
   "execution_count": 23,
   "id": "05b24a54",
   "metadata": {},
   "outputs": [
    {
     "name": "stdout",
     "output_type": "stream",
     "text": [
      "['positive', 'negative', 'negative', 'negative', 'positive', 'negative', 'positive', 'negative', 'positive', 'negative', 'positive', 'negative', 'positive', 'negative', 'positive', 'negative', 'positive', 'positive', 'negative', 'negative', 'negative', 'negative', 'negative', 'positive', 'positive', 'positive', 'negative', 'positive', 'positive', 'positive', 'negative', 'positive', 'negative', 'negative', 'positive', 'positive', 'positive', 'negative', 'negative', 'negative', 'positive', 'positive', 'negative', 'negative', 'negative', 'positive', 'positive', 'positive', 'positive', 'positive', 'negative', 'positive', 'positive', 'positive', 'negative', 'negative', 'positive', 'positive', 'positive', 'positive', 'negative', 'negative', 'positive', 'negative', 'positive', 'positive', 'positive', 'positive', 'negative', 'negative', 'negative', 'negative', 'positive', 'positive', 'positive', 'positive', 'negative', 'positive', 'negative', 'negative', 'negative', 'negative', 'positive', 'positive', 'positive', 'negative', 'positive', 'positive', 'negative', 'negative', 'negative', 'positive', 'negative', 'positive', 'negative', 'negative', 'positive', 'negative', 'positive', 'negative', 'positive', 'negative', 'negative', 'negative', 'negative', 'positive', 'negative', 'negative', 'negative', 'positive', 'negative', 'positive', 'positive', 'negative', 'positive', 'positive', 'positive', 'negative', 'positive', 'negative', 'negative', 'negative']\n"
     ]
    }
   ],
   "source": [
    "sentiment_label = []\n",
    "for score in score_list:\n",
    "  if score > median:\n",
    "    sentiment_label.append('positive')\n",
    "  elif score < median:\n",
    "    sentiment_label.append('negative')\n",
    "  else:\n",
    "    sentiment_label.append('neutral')\n",
    "print(sentiment_label)"
   ]
  },
  {
   "cell_type": "code",
   "execution_count": 24,
   "id": "506f87b0",
   "metadata": {},
   "outputs": [
    {
     "name": "stdout",
     "output_type": "stream",
     "text": [
      "                   Company                                            Reviews  \\\n",
      "0                  Netflix  high performance culture challenge netflix ask...   \n",
      "1                     Uber  pay gone years first started pay great! gas pr...   \n",
      "2                     Yext  excellent ceo -lucky worked given opportunity ...   \n",
      "3                     CACI  nice place work great company work benefits gr...   \n",
      "4            Covenant Eyes  best company i’ve ever worked covenant eyes ca...   \n",
      "..                     ...                                                ...   \n",
      "117  Reynolds and Reynolds  5 stars best part working company? management ...   \n",
      "118                  Sabre  easy going workplace “you always deliver work ...   \n",
      "119  Legrand North America  best place work managers jobs correctly always...   \n",
      "120    Samsung Electronics  interesting challenging work one favorite comp...   \n",
      "121         Teladoc Health  well-organized inclusive excellent management ...   \n",
      "\n",
      "        SCORE SENTIMENT_LABEL  \n",
      "0    0.307785        positive  \n",
      "1    0.236033        negative  \n",
      "2    0.224165        negative  \n",
      "3    0.195753        negative  \n",
      "4    0.459111        positive  \n",
      "..        ...             ...  \n",
      "117  0.204697        negative  \n",
      "118  0.283487        positive  \n",
      "119  0.172762        negative  \n",
      "120  0.217759        negative  \n",
      "121  0.201389        negative  \n",
      "\n",
      "[122 rows x 4 columns]\n"
     ]
    }
   ],
   "source": [
    "dataset = data\n",
    "dataset['SCORE']=score_list\n",
    "dataset['SENTIMENT_LABEL']=sentiment_label\n",
    "print(dataset)\n",
    "dataset.to_csv(\"TextBlobResultswithMedian.csv\", sep='|')"
   ]
  },
  {
   "cell_type": "code",
   "execution_count": 25,
   "id": "cd3005d8",
   "metadata": {},
   "outputs": [
    {
     "name": "stdout",
     "output_type": "stream",
     "text": [
      "Positive Precision:  0.6721311475409836\n",
      "Positive Recall:  0.8913043478260869\n",
      "Positive F-Score:  0.7663551401869158\n",
      "\n",
      "\n",
      "Negative Precision:  0.9180327868852459\n",
      "Negative Recall:  0.7368421052631579\n",
      "Negative F-Score:  0.8175182481751824\n"
     ]
    }
   ],
   "source": [
    "human_data = pd.read_csv('HumanAnnotatedDataset.csv', sep=',')\n",
    "\n",
    "Pos_Fal_neg = 0.0\n",
    "Pos_Tru_pos = 0.0\n",
    "Neg_Tru_neg = 0.0\n",
    "Neg_Fal_pos = 0.0\n",
    "\n",
    "\n",
    "for ind in range(len(sentiment_label)):\n",
    "  \n",
    "    if sentiment_label[ind] == 'positive' and human_data['HUMAN_LABEL'][ind] == 'negative':\n",
    "        Neg_Fal_pos += 1\n",
    "    elif sentiment_label[ind] == 'negative' and human_data['HUMAN_LABEL'][ind] == 'positive':\n",
    "        Pos_Fal_neg += 1\n",
    "    elif sentiment_label[ind] == 'positive' and human_data['HUMAN_LABEL'][ind] == 'positive':\n",
    "        Pos_Tru_pos += 1\n",
    "    elif sentiment_label[ind] == 'negative' and human_data['HUMAN_LABEL'][ind] == 'negative':\n",
    "        Neg_Tru_neg += 1\n",
    "\n",
    "\n",
    "Pos_Prec = (Pos_Tru_pos)/(Pos_Tru_pos + Neg_Fal_pos)\n",
    "Pos_Recal = (Pos_Tru_pos)/(Pos_Tru_pos + Pos_Fal_neg)\n",
    "Pos_FScore = (2*Pos_Prec*Pos_Recal)/(Pos_Prec + Pos_Recal)\n",
    "\n",
    "Neg_Prec = (Neg_Tru_neg)/(Neg_Tru_neg + Pos_Fal_neg)\n",
    "Neg_Recal = (Neg_Tru_neg)/(Neg_Tru_neg + Neg_Fal_pos)\n",
    "Neg_FScore = (2*Neg_Prec*Neg_Recal)/(Neg_Prec + Neg_Recal)\n",
    "        \n",
    "    \n",
    "print(\"Positive Precision: \", Pos_Prec)\n",
    "print(\"Positive Recall: \", Pos_Recal)\n",
    "print(\"Positive F-Score: \", Pos_FScore)\n",
    "\n",
    "print(\"\\n\")\n",
    "\n",
    "print(\"Negative Precision: \", Neg_Prec)\n",
    "print(\"Negative Recall: \", Neg_Recal)\n",
    "print(\"Negative F-Score: \", Neg_FScore)"
   ]
  },
  {
   "cell_type": "markdown",
   "id": "829ec570",
   "metadata": {},
   "source": [
    "# SET 3: Web Scraper"
   ]
  },
  {
   "cell_type": "code",
   "execution_count": 28,
   "id": "c11948c0",
   "metadata": {},
   "outputs": [
    {
     "name": "stdout",
     "output_type": "stream",
     "text": [
      "Collecting selenium\n",
      "  Using cached selenium-4.9.1-py3-none-any.whl (6.6 MB)\n",
      "Collecting trio~=0.17\n",
      "  Downloading trio-0.22.0-py3-none-any.whl (384 kB)\n",
      "     -------------------------------------- 384.9/384.9 kB 3.4 MB/s eta 0:00:00\n",
      "Requirement already satisfied: certifi>=2021.10.8 in c:\\users\\vaishnavi\\anaconda3\\lib\\site-packages (from selenium) (2022.9.14)\n",
      "Requirement already satisfied: urllib3[socks]<3,>=1.26 in c:\\users\\vaishnavi\\anaconda3\\lib\\site-packages (from selenium) (1.26.11)\n",
      "Collecting trio-websocket~=0.9\n",
      "  Downloading trio_websocket-0.10.2-py3-none-any.whl (17 kB)\n",
      "Collecting outcome\n",
      "  Downloading outcome-1.2.0-py2.py3-none-any.whl (9.7 kB)\n",
      "Collecting exceptiongroup>=1.0.0rc9\n",
      "  Downloading exceptiongroup-1.1.1-py3-none-any.whl (14 kB)\n",
      "Requirement already satisfied: idna in c:\\users\\vaishnavi\\anaconda3\\lib\\site-packages (from trio~=0.17->selenium) (3.3)\n",
      "Requirement already satisfied: attrs>=19.2.0 in c:\\users\\vaishnavi\\anaconda3\\lib\\site-packages (from trio~=0.17->selenium) (21.4.0)\n",
      "Requirement already satisfied: cffi>=1.14 in c:\\users\\vaishnavi\\anaconda3\\lib\\site-packages (from trio~=0.17->selenium) (1.15.1)\n",
      "Requirement already satisfied: sortedcontainers in c:\\users\\vaishnavi\\anaconda3\\lib\\site-packages (from trio~=0.17->selenium) (2.4.0)\n",
      "Collecting async-generator>=1.9\n",
      "  Downloading async_generator-1.10-py3-none-any.whl (18 kB)\n",
      "Requirement already satisfied: sniffio in c:\\users\\vaishnavi\\anaconda3\\lib\\site-packages (from trio~=0.17->selenium) (1.2.0)\n",
      "Collecting wsproto>=0.14\n",
      "  Downloading wsproto-1.2.0-py3-none-any.whl (24 kB)\n",
      "Requirement already satisfied: PySocks!=1.5.7,<2.0,>=1.5.6 in c:\\users\\vaishnavi\\anaconda3\\lib\\site-packages (from urllib3[socks]<3,>=1.26->selenium) (1.7.1)\n",
      "Requirement already satisfied: pycparser in c:\\users\\vaishnavi\\anaconda3\\lib\\site-packages (from cffi>=1.14->trio~=0.17->selenium) (2.21)\n",
      "Collecting h11<1,>=0.9.0\n",
      "  Downloading h11-0.14.0-py3-none-any.whl (58 kB)\n",
      "     ---------------------------------------- 58.3/58.3 kB 1.0 MB/s eta 0:00:00\n",
      "Installing collected packages: outcome, h11, exceptiongroup, async-generator, wsproto, trio, trio-websocket, selenium\n",
      "Successfully installed async-generator-1.10 exceptiongroup-1.1.1 h11-0.14.0 outcome-1.2.0 selenium-4.9.1 trio-0.22.0 trio-websocket-0.10.2 wsproto-1.2.0\n"
     ]
    }
   ],
   "source": [
    "!pip install selenium"
   ]
  },
  {
   "cell_type": "code",
   "execution_count": 30,
   "id": "e7c97151",
   "metadata": {},
   "outputs": [
    {
     "name": "stdout",
     "output_type": "stream",
     "text": [
      "Collecting webdriver_manager\n",
      "  Using cached webdriver_manager-3.8.6-py2.py3-none-any.whl (27 kB)\n",
      "Collecting python-dotenv\n",
      "  Downloading python_dotenv-1.0.0-py3-none-any.whl (19 kB)\n",
      "Requirement already satisfied: tqdm in c:\\users\\vaishnavi\\anaconda3\\lib\\site-packages (from webdriver_manager) (4.64.1)\n",
      "Requirement already satisfied: requests in c:\\users\\vaishnavi\\anaconda3\\lib\\site-packages (from webdriver_manager) (2.28.1)\n",
      "Requirement already satisfied: packaging in c:\\users\\vaishnavi\\anaconda3\\lib\\site-packages (from webdriver_manager) (21.3)\n",
      "Requirement already satisfied: pyparsing!=3.0.5,>=2.0.2 in c:\\users\\vaishnavi\\anaconda3\\lib\\site-packages (from packaging->webdriver_manager) (3.0.9)\n",
      "Requirement already satisfied: urllib3<1.27,>=1.21.1 in c:\\users\\vaishnavi\\anaconda3\\lib\\site-packages (from requests->webdriver_manager) (1.26.11)\n",
      "Requirement already satisfied: certifi>=2017.4.17 in c:\\users\\vaishnavi\\anaconda3\\lib\\site-packages (from requests->webdriver_manager) (2022.9.14)\n",
      "Requirement already satisfied: charset-normalizer<3,>=2 in c:\\users\\vaishnavi\\anaconda3\\lib\\site-packages (from requests->webdriver_manager) (2.0.4)\n",
      "Requirement already satisfied: idna<4,>=2.5 in c:\\users\\vaishnavi\\anaconda3\\lib\\site-packages (from requests->webdriver_manager) (3.3)\n",
      "Requirement already satisfied: colorama in c:\\users\\vaishnavi\\anaconda3\\lib\\site-packages (from tqdm->webdriver_manager) (0.4.5)\n",
      "Installing collected packages: python-dotenv, webdriver_manager\n",
      "Successfully installed python-dotenv-1.0.0 webdriver_manager-3.8.6\n"
     ]
    }
   ],
   "source": [
    "!pip install webdriver_manager"
   ]
  },
  {
   "cell_type": "code",
   "execution_count": 32,
   "id": "7c29f73e",
   "metadata": {},
   "outputs": [
    {
     "name": "stdout",
     "output_type": "stream",
     "text": [
      "Requirement already satisfied: webdriver-manager in c:\\users\\vaishnavi\\anaconda3\\lib\\site-packages (3.8.6)\n",
      "Requirement already satisfied: selenium in c:\\users\\vaishnavi\\anaconda3\\lib\\site-packages (4.9.1)\n",
      "Requirement already satisfied: python-dotenv in c:\\users\\vaishnavi\\anaconda3\\lib\\site-packages (from webdriver-manager) (1.0.0)\n",
      "Requirement already satisfied: packaging in c:\\users\\vaishnavi\\anaconda3\\lib\\site-packages (from webdriver-manager) (21.3)\n",
      "Requirement already satisfied: requests in c:\\users\\vaishnavi\\anaconda3\\lib\\site-packages (from webdriver-manager) (2.28.1)\n",
      "Requirement already satisfied: tqdm in c:\\users\\vaishnavi\\anaconda3\\lib\\site-packages (from webdriver-manager) (4.64.1)\n",
      "Requirement already satisfied: certifi>=2021.10.8 in c:\\users\\vaishnavi\\anaconda3\\lib\\site-packages (from selenium) (2022.9.14)\n",
      "Requirement already satisfied: trio~=0.17 in c:\\users\\vaishnavi\\anaconda3\\lib\\site-packages (from selenium) (0.22.0)\n",
      "Requirement already satisfied: urllib3[socks]<3,>=1.26 in c:\\users\\vaishnavi\\anaconda3\\lib\\site-packages (from selenium) (1.26.11)\n",
      "Requirement already satisfied: trio-websocket~=0.9 in c:\\users\\vaishnavi\\anaconda3\\lib\\site-packages (from selenium) (0.10.2)\n",
      "Requirement already satisfied: cffi>=1.14 in c:\\users\\vaishnavi\\anaconda3\\lib\\site-packages (from trio~=0.17->selenium) (1.15.1)\n",
      "Requirement already satisfied: sortedcontainers in c:\\users\\vaishnavi\\anaconda3\\lib\\site-packages (from trio~=0.17->selenium) (2.4.0)\n",
      "Requirement already satisfied: async-generator>=1.9 in c:\\users\\vaishnavi\\anaconda3\\lib\\site-packages (from trio~=0.17->selenium) (1.10)\n",
      "Requirement already satisfied: attrs>=19.2.0 in c:\\users\\vaishnavi\\anaconda3\\lib\\site-packages (from trio~=0.17->selenium) (21.4.0)\n",
      "Requirement already satisfied: idna in c:\\users\\vaishnavi\\anaconda3\\lib\\site-packages (from trio~=0.17->selenium) (3.3)\n",
      "Requirement already satisfied: sniffio in c:\\users\\vaishnavi\\anaconda3\\lib\\site-packages (from trio~=0.17->selenium) (1.2.0)\n",
      "Requirement already satisfied: exceptiongroup>=1.0.0rc9 in c:\\users\\vaishnavi\\anaconda3\\lib\\site-packages (from trio~=0.17->selenium) (1.1.1)\n",
      "Requirement already satisfied: outcome in c:\\users\\vaishnavi\\anaconda3\\lib\\site-packages (from trio~=0.17->selenium) (1.2.0)\n",
      "Requirement already satisfied: wsproto>=0.14 in c:\\users\\vaishnavi\\anaconda3\\lib\\site-packages (from trio-websocket~=0.9->selenium) (1.2.0)\n",
      "Requirement already satisfied: PySocks!=1.5.7,<2.0,>=1.5.6 in c:\\users\\vaishnavi\\anaconda3\\lib\\site-packages (from urllib3[socks]<3,>=1.26->selenium) (1.7.1)\n",
      "Requirement already satisfied: pyparsing!=3.0.5,>=2.0.2 in c:\\users\\vaishnavi\\anaconda3\\lib\\site-packages (from packaging->webdriver-manager) (3.0.9)\n",
      "Requirement already satisfied: charset-normalizer<3,>=2 in c:\\users\\vaishnavi\\anaconda3\\lib\\site-packages (from requests->webdriver-manager) (2.0.4)\n",
      "Requirement already satisfied: colorama in c:\\users\\vaishnavi\\anaconda3\\lib\\site-packages (from tqdm->webdriver-manager) (0.4.5)\n",
      "Requirement already satisfied: pycparser in c:\\users\\vaishnavi\\anaconda3\\lib\\site-packages (from cffi>=1.14->trio~=0.17->selenium) (2.21)\n",
      "Requirement already satisfied: h11<1,>=0.9.0 in c:\\users\\vaishnavi\\anaconda3\\lib\\site-packages (from wsproto>=0.14->trio-websocket~=0.9->selenium) (0.14.0)\n",
      "Note: you may need to restart the kernel to use updated packages.\n"
     ]
    }
   ],
   "source": [
    "%pip install webdriver-manager selenium\n",
    "from selenium import webdriver\n",
    "from selenium.webdriver.common.by import By\n",
    "from selenium.webdriver.chrome.options import Options\n",
    "from webdriver_manager.chrome import ChromeDriverManager\n",
    "import time\n",
    "import csv"
   ]
  },
  {
   "cell_type": "code",
   "execution_count": 33,
   "id": "618b27ac",
   "metadata": {},
   "outputs": [],
   "source": [
    "indeedCompanyBaseURL = 'https://www.indeed.com/'\n",
    "\n",
    "# Change these constants\n",
    "# Note - do not set the number of reviews to scrape per company over 150\n",
    "# Otherwise indeed.com will block the scraper, by temporarily blocking your IP Address\n",
    "# Trust me, I found out the hard way\n",
    "# Number of Reviews needs to be in multiples of 20\n",
    "NUMBER_OF_COMPANIES_TO_SCRAPE = 150\n",
    "NUMBER_OF_REVIEWS_TO_SCRAPE_PER_COMPANY = 100"
   ]
  },
  {
   "cell_type": "code",
   "execution_count": 37,
   "id": "1c251000",
   "metadata": {},
   "outputs": [
    {
     "name": "stderr",
     "output_type": "stream",
     "text": [
      "C:\\Users\\Vaishnavi\\AppData\\Local\\Temp\\ipykernel_22096\\4180491361.py:5: DeprecationWarning: executable_path has been deprecated, please pass in a Service object\n",
      "  driver = webdriver.Chrome(ChromeDriverManager().install())\n"
     ]
    }
   ],
   "source": [
    "from selenium import webdriver\n",
    "from webdriver_manager.chrome import ChromeDriverManager\n",
    "\n",
    "# Initialize the driver\n",
    "driver = webdriver.Chrome(ChromeDriverManager().install())"
   ]
  },
  {
   "cell_type": "code",
   "execution_count": 38,
   "id": "051cb220",
   "metadata": {},
   "outputs": [
    {
     "name": "stdout",
     "output_type": "stream",
     "text": [
      "Beginning to scrape\n",
      "Scraping companies -  10 / 150\n",
      "Scraping companies -  20 / 150\n",
      "Scraping companies -  30 / 150\n",
      "Scraping companies -  40 / 150\n",
      "Scraping companies -  50 / 150\n",
      "Scraping companies -  60 / 150\n",
      "Scraping companies -  70 / 150\n",
      "Scraping companies -  80 / 150\n",
      "Scraping companies -  90 / 150\n",
      "Scraping companies -  100 / 150\n",
      "Scraping companies -  110 / 150\n",
      "Scraping companies -  120 / 150\n",
      "Scraping companies -  130 / 150\n",
      "Scraping companies -  140 / 150\n",
      "Scraping companies -  150 / 150\n",
      "Company Scraping done\n"
     ]
    }
   ],
   "source": [
    "companyURLs = {}\n",
    "print(\"Beginning to scrape\")\n",
    "companyScraperBaseURL = 'https://www.indeed.com/jobs?q=software+intern&start='\n",
    "for i in range(0,NUMBER_OF_COMPANIES_TO_SCRAPE,10):\n",
    "    print(\"Scraping companies - \",i+10,\"/\",NUMBER_OF_COMPANIES_TO_SCRAPE)\n",
    "    url = companyScraperBaseURL+str(i)\n",
    "    driver.get(url)\n",
    "    time.sleep(1)\n",
    "    companies = driver.find_elements(By.CLASS_NAME,'companyOverviewLink')\n",
    "    for company in companies:\n",
    "        if company.text not in companyURLs:\n",
    "            companyURLs[company.text] = (company.get_property('href'))\n",
    "\n",
    "print(\"Company Scraping done\")"
   ]
  },
  {
   "cell_type": "code",
   "execution_count": 39,
   "id": "a5600fb7",
   "metadata": {},
   "outputs": [],
   "source": [
    "reviews = {}\n",
    "\n",
    "for i,company in enumerate(companyURLs):\n",
    "    url = companyURLs[company]\n",
    "    print()\n",
    "    print(\"({0}/{1}) Scraping company reviews - {2}\".format(i+1, len(companyURLs), company))\n",
    "    for i in range(0,NUMBER_OF_REVIEWS_TO_SCRAPE_PER_COMPANY,20):\n",
    "        print(\"Progress - \",i+20,\"/\",NUMBER_OF_REVIEWS_TO_SCRAPE_PER_COMPANY)\n",
    "        newUrl = url+'/reviews?&start='+str(i)\n",
    "        driver.get(newUrl)\n",
    "        elems = driver.find_elements(By.CLASS_NAME,'eu4oa1w0')\n",
    "        for elem in elems:\n",
    "            if elem.tag_name==\"span\":\n",
    "                txt = elem.text\n",
    "                if txt!='':\n",
    "                    if company not in reviews:\n",
    "                        reviews[company] = ''\n",
    "                    reviews[company]+=' '+txt"
   ]
  },
  {
   "cell_type": "code",
   "execution_count": 40,
   "id": "448141cf",
   "metadata": {},
   "outputs": [],
   "source": [
    "import pandas as pd\n",
    "df = pd.DataFrame()\n",
    "for company in reviews:\n",
    "    tempm = {}\n",
    "    tempm['Company'] = company\n",
    "    tempm['Reviews'] = reviews[company]\n",
    "    df = df.append(tempm, ignore_index=True)\n",
    "\n",
    "df.to_csv('out.csv',sep='|', index=False)"
   ]
  },
  {
   "cell_type": "code",
   "execution_count": null,
   "id": "0962c8cc",
   "metadata": {},
   "outputs": [],
   "source": []
  },
  {
   "cell_type": "code",
   "execution_count": null,
   "id": "ca1e5aaa",
   "metadata": {},
   "outputs": [],
   "source": []
  },
  {
   "cell_type": "code",
   "execution_count": null,
   "id": "54b22ef7",
   "metadata": {},
   "outputs": [],
   "source": []
  },
  {
   "cell_type": "code",
   "execution_count": null,
   "id": "0fe558d9",
   "metadata": {},
   "outputs": [],
   "source": []
  }
 ],
 "metadata": {
  "kernelspec": {
   "display_name": "Python 3 (ipykernel)",
   "language": "python",
   "name": "python3"
  },
  "language_info": {
   "codemirror_mode": {
    "name": "ipython",
    "version": 3
   },
   "file_extension": ".py",
   "mimetype": "text/x-python",
   "name": "python",
   "nbconvert_exporter": "python",
   "pygments_lexer": "ipython3",
   "version": "3.9.13"
  }
 },
 "nbformat": 4,
 "nbformat_minor": 5
}
